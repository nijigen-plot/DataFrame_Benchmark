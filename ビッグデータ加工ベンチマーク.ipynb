{
 "cells": [
  {
   "cell_type": "code",
   "execution_count": 3,
   "id": "57fa32ad",
   "metadata": {},
   "outputs": [],
   "source": [
    "import pandas as pd\n",
    "import numpy as np\n",
    "import string\n",
    "from itertools import product\n",
    "from random import randint, seed\n",
    "from datetime import datetime"
   ]
  },
  {
   "cell_type": "code",
   "execution_count": 6,
   "id": "56e131e1",
   "metadata": {},
   "outputs": [
    {
     "name": "stdout",
     "output_type": "stream",
     "text": [
      "Wall time: 0 ns\n"
     ]
    }
   ],
   "source": [
    "# 適当な日付データを生成\n",
    "dates = pd.date_range(start='2010-01-01', end='2021-12-31', freq='D')\n",
    "# A to Z\n",
    "groups = [i for i in string.ascii_uppercase]"
   ]
  },
  {
   "cell_type": "code",
   "execution_count": 7,
   "id": "ba59ac9c",
   "metadata": {},
   "outputs": [
    {
     "name": "stdout",
     "output_type": "stream",
     "text": [
      "Wall time: 12.8 s\n"
     ]
    }
   ],
   "source": [
    "%%time\n",
    "# 約5000万行のデータを作る\n",
    "df = pd.DataFrame(list(product(dates, groups)) * 440, columns=['dt','group_label'])"
   ]
  },
  {
   "cell_type": "code",
   "execution_count": 8,
   "id": "a2a62611",
   "metadata": {},
   "outputs": [
    {
     "name": "stdout",
     "output_type": "stream",
     "text": [
      "Wall time: 1min 4s\n"
     ]
    }
   ],
   "source": [
    "%%time\n",
    "# ランダムな整数を生成し、DataFrameへ新しい列として加える\n",
    "seed(46)\n",
    "df['value'] = [randint(0, 10000) for i in range(len(df))]"
   ]
  },
  {
   "cell_type": "code",
   "execution_count": 9,
   "id": "f3e6686b",
   "metadata": {
    "scrolled": true
   },
   "outputs": [
    {
     "name": "stdout",
     "output_type": "stream",
     "text": [
      "Wall time: 3.16 s\n"
     ]
    },
    {
     "data": {
      "text/html": [
       "<div>\n",
       "<style scoped>\n",
       "    .dataframe tbody tr th:only-of-type {\n",
       "        vertical-align: middle;\n",
       "    }\n",
       "\n",
       "    .dataframe tbody tr th {\n",
       "        vertical-align: top;\n",
       "    }\n",
       "\n",
       "    .dataframe thead th {\n",
       "        text-align: right;\n",
       "    }\n",
       "</style>\n",
       "<table border=\"1\" class=\"dataframe\">\n",
       "  <thead>\n",
       "    <tr style=\"text-align: right;\">\n",
       "      <th></th>\n",
       "      <th>std</th>\n",
       "      <th>mean</th>\n",
       "    </tr>\n",
       "    <tr>\n",
       "      <th>group_label</th>\n",
       "      <th></th>\n",
       "      <th></th>\n",
       "    </tr>\n",
       "  </thead>\n",
       "  <tbody>\n",
       "    <tr>\n",
       "      <th>A</th>\n",
       "      <td>2886.981287</td>\n",
       "      <td>4999.168976</td>\n",
       "    </tr>\n",
       "    <tr>\n",
       "      <th>B</th>\n",
       "      <td>2887.690758</td>\n",
       "      <td>4998.889735</td>\n",
       "    </tr>\n",
       "    <tr>\n",
       "      <th>C</th>\n",
       "      <td>2887.645944</td>\n",
       "      <td>5001.465989</td>\n",
       "    </tr>\n",
       "    <tr>\n",
       "      <th>D</th>\n",
       "      <td>2886.405559</td>\n",
       "      <td>4999.150671</td>\n",
       "    </tr>\n",
       "    <tr>\n",
       "      <th>E</th>\n",
       "      <td>2886.553834</td>\n",
       "      <td>5001.180661</td>\n",
       "    </tr>\n",
       "    <tr>\n",
       "      <th>F</th>\n",
       "      <td>2886.705121</td>\n",
       "      <td>5000.462623</td>\n",
       "    </tr>\n",
       "    <tr>\n",
       "      <th>G</th>\n",
       "      <td>2886.584757</td>\n",
       "      <td>4998.862317</td>\n",
       "    </tr>\n",
       "    <tr>\n",
       "      <th>H</th>\n",
       "      <td>2887.212717</td>\n",
       "      <td>4996.114136</td>\n",
       "    </tr>\n",
       "    <tr>\n",
       "      <th>I</th>\n",
       "      <td>2888.212986</td>\n",
       "      <td>4999.111629</td>\n",
       "    </tr>\n",
       "    <tr>\n",
       "      <th>J</th>\n",
       "      <td>2887.993224</td>\n",
       "      <td>5001.975877</td>\n",
       "    </tr>\n",
       "    <tr>\n",
       "      <th>K</th>\n",
       "      <td>2886.090859</td>\n",
       "      <td>5001.094906</td>\n",
       "    </tr>\n",
       "    <tr>\n",
       "      <th>L</th>\n",
       "      <td>2887.494517</td>\n",
       "      <td>5000.590028</td>\n",
       "    </tr>\n",
       "    <tr>\n",
       "      <th>M</th>\n",
       "      <td>2888.003709</td>\n",
       "      <td>5001.779763</td>\n",
       "    </tr>\n",
       "    <tr>\n",
       "      <th>N</th>\n",
       "      <td>2888.001838</td>\n",
       "      <td>4999.590927</td>\n",
       "    </tr>\n",
       "    <tr>\n",
       "      <th>O</th>\n",
       "      <td>2887.146670</td>\n",
       "      <td>5001.003167</td>\n",
       "    </tr>\n",
       "    <tr>\n",
       "      <th>P</th>\n",
       "      <td>2889.735766</td>\n",
       "      <td>4998.500103</td>\n",
       "    </tr>\n",
       "    <tr>\n",
       "      <th>Q</th>\n",
       "      <td>2886.416079</td>\n",
       "      <td>4999.716444</td>\n",
       "    </tr>\n",
       "    <tr>\n",
       "      <th>R</th>\n",
       "      <td>2887.608055</td>\n",
       "      <td>5000.501824</td>\n",
       "    </tr>\n",
       "    <tr>\n",
       "      <th>S</th>\n",
       "      <td>2887.708336</td>\n",
       "      <td>5001.128750</td>\n",
       "    </tr>\n",
       "    <tr>\n",
       "      <th>T</th>\n",
       "      <td>2885.939092</td>\n",
       "      <td>4993.648985</td>\n",
       "    </tr>\n",
       "    <tr>\n",
       "      <th>U</th>\n",
       "      <td>2887.349561</td>\n",
       "      <td>5000.312846</td>\n",
       "    </tr>\n",
       "    <tr>\n",
       "      <th>V</th>\n",
       "      <td>2887.547549</td>\n",
       "      <td>4997.187886</td>\n",
       "    </tr>\n",
       "    <tr>\n",
       "      <th>W</th>\n",
       "      <td>2886.972890</td>\n",
       "      <td>5000.394495</td>\n",
       "    </tr>\n",
       "    <tr>\n",
       "      <th>X</th>\n",
       "      <td>2887.000867</td>\n",
       "      <td>4999.626231</td>\n",
       "    </tr>\n",
       "    <tr>\n",
       "      <th>Y</th>\n",
       "      <td>2887.473476</td>\n",
       "      <td>5000.576666</td>\n",
       "    </tr>\n",
       "    <tr>\n",
       "      <th>Z</th>\n",
       "      <td>2886.854747</td>\n",
       "      <td>5004.458498</td>\n",
       "    </tr>\n",
       "  </tbody>\n",
       "</table>\n",
       "</div>"
      ],
      "text/plain": [
       "                     std         mean\n",
       "group_label                          \n",
       "A            2886.981287  4999.168976\n",
       "B            2887.690758  4998.889735\n",
       "C            2887.645944  5001.465989\n",
       "D            2886.405559  4999.150671\n",
       "E            2886.553834  5001.180661\n",
       "F            2886.705121  5000.462623\n",
       "G            2886.584757  4998.862317\n",
       "H            2887.212717  4996.114136\n",
       "I            2888.212986  4999.111629\n",
       "J            2887.993224  5001.975877\n",
       "K            2886.090859  5001.094906\n",
       "L            2887.494517  5000.590028\n",
       "M            2888.003709  5001.779763\n",
       "N            2888.001838  4999.590927\n",
       "O            2887.146670  5001.003167\n",
       "P            2889.735766  4998.500103\n",
       "Q            2886.416079  4999.716444\n",
       "R            2887.608055  5000.501824\n",
       "S            2887.708336  5001.128750\n",
       "T            2885.939092  4993.648985\n",
       "U            2887.349561  5000.312846\n",
       "V            2887.547549  4997.187886\n",
       "W            2886.972890  5000.394495\n",
       "X            2887.000867  4999.626231\n",
       "Y            2887.473476  5000.576666\n",
       "Z            2886.854747  5004.458498"
      ]
     },
     "execution_count": 9,
     "metadata": {},
     "output_type": "execute_result"
    }
   ],
   "source": [
    "%%time\n",
    "# group_label毎に平均と分散\n",
    "df.groupby(['group_label'])['value'].agg({'mean','std'})"
   ]
  },
  {
   "cell_type": "code",
   "execution_count": 12,
   "id": "0404b821",
   "metadata": {},
   "outputs": [
    {
     "name": "stdout",
     "output_type": "stream",
     "text": [
      "Wall time: 995 ms\n"
     ]
    }
   ],
   "source": [
    "%%time\n",
    "# 現在時刻の列を挿入\n",
    "df['now'] = datetime.now()"
   ]
  },
  {
   "cell_type": "code",
   "execution_count": 13,
   "id": "07f7e7fc",
   "metadata": {},
   "outputs": [
    {
     "name": "stdout",
     "output_type": "stream",
     "text": [
      "Wall time: 6min 35s\n"
     ]
    }
   ],
   "source": [
    "%%time\n",
    "# 日数差の列を挿入\n",
    "df['diff_dt'] = (df['now'] - df['dt']).apply(lambda x : x.days)"
   ]
  }
 ],
 "metadata": {
  "kernelspec": {
   "display_name": "Python 3 (ipykernel)",
   "language": "python",
   "name": "python3"
  },
  "language_info": {
   "codemirror_mode": {
    "name": "ipython",
    "version": 3
   },
   "file_extension": ".py",
   "mimetype": "text/x-python",
   "name": "python",
   "nbconvert_exporter": "python",
   "pygments_lexer": "ipython3",
   "version": "3.8.12"
  }
 },
 "nbformat": 4,
 "nbformat_minor": 5
}
