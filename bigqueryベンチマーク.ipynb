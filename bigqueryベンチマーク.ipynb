{
 "cells": [
  {
   "cell_type": "markdown",
   "id": "740d2d21",
   "metadata": {},
   "source": [
    "## bigqueryでデータを取得"
   ]
  },
  {
   "cell_type": "code",
   "execution_count": 3,
   "id": "9e61903c",
   "metadata": {},
   "outputs": [],
   "source": [
    "import pandas as pd\n",
    "from google.cloud import bigquery\n",
    "import google.cloud.bigquery.magics\n",
    "from google.cloud import bigquery_storage\n",
    "from google.oauth2 import service_account\n",
    "import json"
   ]
  },
  {
   "cell_type": "code",
   "execution_count": 6,
   "id": "68c3ef30",
   "metadata": {},
   "outputs": [],
   "source": [
    "# サービスアカウントの認証を通す\n",
    "cred_json = json.load(open('voltaic-country-281210-05083ef88b98.json'))\n",
    "credentials = service_account.Credentials.from_service_account_info(\n",
    "    cred_json,\n",
    "    scopes = ['https://www.googleapis.com/auth/bigquery']\n",
    ")\n",
    "client = bigquery.Client(project='voltaic-country-281210', credentials=credentials)"
   ]
  },
  {
   "cell_type": "code",
   "execution_count": 10,
   "id": "366d0817",
   "metadata": {},
   "outputs": [],
   "source": [
    "# 約7000万行のデータを読み込む\n",
    "query = \"\"\"SELECT * FROM `voltaic-country-281210.bqtest.flights`\"\"\""
   ]
  },
  {
   "cell_type": "code",
   "execution_count": null,
   "id": "f702e62c",
   "metadata": {},
   "outputs": [],
   "source": [
    "%%time\n",
    "df = client.query(query).to_dataframe()"
   ]
  }
 ],
 "metadata": {
  "kernelspec": {
   "display_name": "Python 3 (ipykernel)",
   "language": "python",
   "name": "python3"
  },
  "language_info": {
   "codemirror_mode": {
    "name": "ipython",
    "version": 3
   },
   "file_extension": ".py",
   "mimetype": "text/x-python",
   "name": "python",
   "nbconvert_exporter": "python",
   "pygments_lexer": "ipython3",
   "version": "3.8.8"
  }
 },
 "nbformat": 4,
 "nbformat_minor": 5
}
