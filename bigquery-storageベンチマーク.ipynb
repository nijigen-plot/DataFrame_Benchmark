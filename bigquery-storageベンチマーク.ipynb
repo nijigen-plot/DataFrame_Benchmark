{
 "cells": [
  {
   "cell_type": "markdown",
   "id": "61840f0d",
   "metadata": {},
   "source": [
    "## bigquery storage APIを使用してデータを取得\n",
    "- https://cloud.google.com/bigquery/docs/bigquery-storage-python-pandas?hl=ja"
   ]
  },
  {
   "cell_type": "code",
   "execution_count": 1,
   "id": "a8faa0e0",
   "metadata": {},
   "outputs": [],
   "source": [
    "import pandas as pd\n",
    "from google.cloud import bigquery\n",
    "import google.cloud.bigquery.magics\n",
    "from google.cloud import bigquery_storage\n",
    "from google.oauth2 import service_account\n",
    "import json"
   ]
  },
  {
   "cell_type": "code",
   "execution_count": 2,
   "id": "496e9a40",
   "metadata": {},
   "outputs": [],
   "source": [
    "# サービスアカウントの認証を通す\n",
    "cred_json = json.load(open('voltaic-country-281210-05083ef88b98.json'))\n",
    "credentials = service_account.Credentials.from_service_account_info(\n",
    "    cred_json,\n",
    "    scopes = ['https://www.googleapis.com/auth/bigquery']\n",
    ")\n",
    "client = bigquery.Client(project='voltaic-country-281210', credentials=credentials)"
   ]
  },
  {
   "cell_type": "code",
   "execution_count": 3,
   "id": "76fd129d",
   "metadata": {},
   "outputs": [],
   "source": [
    "google.cloud.bigquery.magics.context.use_bqstorage_api = True\n",
    "bqstorage_client = bigquery_storage.BigQueryReadClient(credentials=credentials)"
   ]
  },
  {
   "cell_type": "code",
   "execution_count": 4,
   "id": "98f1aed8",
   "metadata": {},
   "outputs": [],
   "source": [
    "query = \"\"\"SELECT * FROM `voltaic-country-281210.bqtest.flights` limit 10\"\"\""
   ]
  },
  {
   "cell_type": "code",
   "execution_count": null,
   "id": "345829c1",
   "metadata": {},
   "outputs": [],
   "source": [
    "%%time\n",
    "df = client.query(query).to_dataframe(bqstorage_client)"
   ]
  }
 ],
 "metadata": {
  "kernelspec": {
   "display_name": "Python 3 (ipykernel)",
   "language": "python",
   "name": "python3"
  },
  "language_info": {
   "codemirror_mode": {
    "name": "ipython",
    "version": 3
   },
   "file_extension": ".py",
   "mimetype": "text/x-python",
   "name": "python",
   "nbconvert_exporter": "python",
   "pygments_lexer": "ipython3",
   "version": "3.8.8"
  }
 },
 "nbformat": 4,
 "nbformat_minor": 5
}
